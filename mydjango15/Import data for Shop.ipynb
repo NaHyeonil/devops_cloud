{
 "cells": [
  {
   "cell_type": "code",
   "execution_count": 34,
   "id": "a6073c81",
   "metadata": {},
   "outputs": [],
   "source": [
    "import os\n",
    "os.environ[\"DJANGO_SETTINGS_MODULE\"] = \"mydjango15.settings\"\n",
    "os.environ[\"DJANGO_ALLOW_ASYNC_UNSAFE\"] = \"true\"\n",
    "\n",
    "import django\n",
    "django.setup()"
   ]
  },
  {
   "cell_type": "code",
   "execution_count": 35,
   "id": "9185c76a",
   "metadata": {},
   "outputs": [
    {
     "data": {
      "text/plain": [
       "[['name', 'description', 'address', 'coordinates', 'telephone'],\n",
       " ['파리바게뜨 대전판암점',\n",
       "  '좋아요',\n",
       "  '대전 동구 옥천로 178-1',\n",
       "  '36.3170396,127.4602147',\n",
       "  '042-272-8838'],\n",
       " ['버거킹 대전대동DT점',\n",
       "  '재료싱싱하고 감튀 토실 깔끔포장 굿',\n",
       "  '대전 동구 계족로 120',\n",
       "  '36.3248731,127.4459914',\n",
       "  '070-7462-8639'],\n",
       " ['투썸플레이스 대전대동오거리점',\n",
       "  '기분 업 되는 순간^^ 햇살 좋은 그날...행복한 순간',\n",
       "  '대전 동구 계족로 156',\n",
       "  '36.327925,127.4441086',\n",
       "  '042-286-7001'],\n",
       " ['롯데리아 대전대동점',\n",
       "  '맛있어요',\n",
       "  '대전 동구 계족로 174',\n",
       "  '36.3294193,127.4433406',\n",
       "  '042-628-5500'],\n",
       " ['뚜레쥬르 대전대동오거리점',\n",
       "  '진짜 맛있어요 빵이 👍👍👍',\n",
       "  '대전 동구 동대전로 80-2',\n",
       "  '36.3297018,127.4434244',\n",
       "  '042-633-0454'],\n",
       " ['도미노피자 대전대동점',\n",
       "  '맛있고 배달시간 정확히 지켜주셨어요^',\n",
       "  '대전 동구 계족로 194-37',\n",
       "  '36.3309991,127.4437148',\n",
       "  '042-673-3082'],\n",
       " ['정통짜장',\n",
       "  '짬뽕이랑 짜장면 맛있어요 탕수육은 쏘쏘',\n",
       "  '대전 동구 동대전로 102',\n",
       "  '36.3312844,127.4444022',\n",
       "  '042-631-3535'],\n",
       " ['치밥치킨',\n",
       "  '너무 맛있어요',\n",
       "  '대전 동구 동대전로106번길 3 1층',\n",
       "  '36.3317511,127.4447531',\n",
       "  '042-285-8891'],\n",
       " ['동근이숯불두마리치킨 우송점',\n",
       "  '친절대응, 솔직히 기대이상 맛있었음.',\n",
       "  '대전 동구 동대전로 123-2',\n",
       "  '36.3333843,127.4451737',\n",
       "  '042-635-9233'],\n",
       " ['투다리 우송대점',\n",
       "  '매운닭꼬치세트에서 닭 누린내?! 그런 비슷한 맛이나더라구요,,,, 그게 좀 아쉬워요ㅠㅠ',\n",
       "  '대전 동구 동대전로 134',\n",
       "  '36.3340491,127.446069',\n",
       "  '042-624-1130'],\n",
       " ['이삭토스트 우송대점',\n",
       "  '자주 이용합니다 맛있어요',\n",
       "  '대전 동구 동대전로131번길 8-5',\n",
       "  '36.3343887,127.4452624',\n",
       "  '042-623-4889'],\n",
       " ['정통집 대전우송대점',\n",
       "  '항상 맛있어요! 만족스럽습니다!!!!',\n",
       "  '대전 동구 동대전로131번길 5',\n",
       "  '36.3339099,127.4452157',\n",
       "  '0507-1328-2390'],\n",
       " ['뒤집어진뚝배기',\n",
       "  1322314523,\n",
       "  '대전 동구 동대전로131번길 8-11',\n",
       "  '36.3345955,127.4453556',\n",
       "  '042-622-3692'],\n",
       " ['주먹쫄면',\n",
       "  '맛은있는데 매워서 놀람 매운거 못먹느사람은 소스조금만 해서 드세요',\n",
       "  '대전 동구 동대전로131번길 34',\n",
       "  '36.3348352,127.4443692',\n",
       "  '042-623-6486'],\n",
       " ['유가마라탕',\n",
       "  '오늘도 유가식당 마라탕입니당~ 사장님이 친절하고 맛이도 엄청 좋아요~굿굿👍👍👍',\n",
       "  '대전 동구 동대전로 155',\n",
       "  '36.3358357,127.4467192',\n",
       "  '042-111-1111']]"
      ]
     },
     "execution_count": 35,
     "metadata": {},
     "output_type": "execute_result"
    }
   ],
   "source": [
    "from openpyxl import load_workbook\n",
    "wb = load_workbook('mydjango15-data.xlsx')\n",
    "sheet = wb.active\n",
    "rows = [\n",
    "\t[column.value for column in row]\n",
    "\tfor row in sheet\n",
    "]\n",
    "rows"
   ]
  },
  {
   "cell_type": "code",
   "execution_count": 36,
   "id": "ff0f4088",
   "metadata": {},
   "outputs": [
    {
     "data": {
      "text/plain": [
       "['name', 'description', 'address', 'coordinates', 'telephone']"
      ]
     },
     "execution_count": 36,
     "metadata": {},
     "output_type": "execute_result"
    }
   ],
   "source": [
    "column_names = rows[0]\n",
    "column_names"
   ]
  },
  {
   "cell_type": "code",
   "execution_count": 40,
   "id": "adc8fb28",
   "metadata": {},
   "outputs": [
    {
     "data": {
      "text/plain": [
       "[{'name': '파리바게뜨 대전판암점',\n",
       "  'description': '좋아요',\n",
       "  'address': '대전 동구 옥천로 178-1',\n",
       "  'telephone': '042-272-8838',\n",
       "  'latitude': '36.3170396',\n",
       "  'longitude': '127.4602147'},\n",
       " {'name': '버거킹 대전대동DT점',\n",
       "  'description': '재료싱싱하고 감튀 토실 깔끔포장 굿',\n",
       "  'address': '대전 동구 계족로 120',\n",
       "  'telephone': '070-7462-8639',\n",
       "  'latitude': '36.3248731',\n",
       "  'longitude': '127.4459914'},\n",
       " {'name': '투썸플레이스 대전대동오거리점',\n",
       "  'description': '기분 업 되는 순간^^ 햇살 좋은 그날...행복한 순간',\n",
       "  'address': '대전 동구 계족로 156',\n",
       "  'telephone': '042-286-7001',\n",
       "  'latitude': '36.327925',\n",
       "  'longitude': '127.4441086'},\n",
       " {'name': '롯데리아 대전대동점',\n",
       "  'description': '맛있어요',\n",
       "  'address': '대전 동구 계족로 174',\n",
       "  'telephone': '042-628-5500',\n",
       "  'latitude': '36.3294193',\n",
       "  'longitude': '127.4433406'},\n",
       " {'name': '뚜레쥬르 대전대동오거리점',\n",
       "  'description': '진짜 맛있어요 빵이 👍👍👍',\n",
       "  'address': '대전 동구 동대전로 80-2',\n",
       "  'telephone': '042-633-0454',\n",
       "  'latitude': '36.3297018',\n",
       "  'longitude': '127.4434244'},\n",
       " {'name': '도미노피자 대전대동점',\n",
       "  'description': '맛있고 배달시간 정확히 지켜주셨어요^',\n",
       "  'address': '대전 동구 계족로 194-37',\n",
       "  'telephone': '042-673-3082',\n",
       "  'latitude': '36.3309991',\n",
       "  'longitude': '127.4437148'},\n",
       " {'name': '정통짜장',\n",
       "  'description': '짬뽕이랑 짜장면 맛있어요 탕수육은 쏘쏘',\n",
       "  'address': '대전 동구 동대전로 102',\n",
       "  'telephone': '042-631-3535',\n",
       "  'latitude': '36.3312844',\n",
       "  'longitude': '127.4444022'},\n",
       " {'name': '치밥치킨',\n",
       "  'description': '너무 맛있어요',\n",
       "  'address': '대전 동구 동대전로106번길 3 1층',\n",
       "  'telephone': '042-285-8891',\n",
       "  'latitude': '36.3317511',\n",
       "  'longitude': '127.4447531'},\n",
       " {'name': '동근이숯불두마리치킨 우송점',\n",
       "  'description': '친절대응, 솔직히 기대이상 맛있었음.',\n",
       "  'address': '대전 동구 동대전로 123-2',\n",
       "  'telephone': '042-635-9233',\n",
       "  'latitude': '36.3333843',\n",
       "  'longitude': '127.4451737'},\n",
       " {'name': '투다리 우송대점',\n",
       "  'description': '매운닭꼬치세트에서 닭 누린내?! 그런 비슷한 맛이나더라구요,,,, 그게 좀 아쉬워요ㅠㅠ',\n",
       "  'address': '대전 동구 동대전로 134',\n",
       "  'telephone': '042-624-1130',\n",
       "  'latitude': '36.3340491',\n",
       "  'longitude': '127.446069'},\n",
       " {'name': '이삭토스트 우송대점',\n",
       "  'description': '자주 이용합니다 맛있어요',\n",
       "  'address': '대전 동구 동대전로131번길 8-5',\n",
       "  'telephone': '042-623-4889',\n",
       "  'latitude': '36.3343887',\n",
       "  'longitude': '127.4452624'},\n",
       " {'name': '정통집 대전우송대점',\n",
       "  'description': '항상 맛있어요! 만족스럽습니다!!!!',\n",
       "  'address': '대전 동구 동대전로131번길 5',\n",
       "  'telephone': '0507-1328-2390',\n",
       "  'latitude': '36.3339099',\n",
       "  'longitude': '127.4452157'},\n",
       " {'name': '뒤집어진뚝배기',\n",
       "  'description': 1322314523,\n",
       "  'address': '대전 동구 동대전로131번길 8-11',\n",
       "  'telephone': '042-622-3692',\n",
       "  'latitude': '36.3345955',\n",
       "  'longitude': '127.4453556'},\n",
       " {'name': '주먹쫄면',\n",
       "  'description': '맛은있는데 매워서 놀람 매운거 못먹느사람은 소스조금만 해서 드세요',\n",
       "  'address': '대전 동구 동대전로131번길 34',\n",
       "  'telephone': '042-623-6486',\n",
       "  'latitude': '36.3348352',\n",
       "  'longitude': '127.4443692'},\n",
       " {'name': '유가마라탕',\n",
       "  'description': '오늘도 유가식당 마라탕입니당~ 사장님이 친절하고 맛이도 엄청 좋아요~굿굿👍👍👍',\n",
       "  'address': '대전 동구 동대전로 155',\n",
       "  'telephone': '042-111-1111',\n",
       "  'latitude': '36.3358357',\n",
       "  'longitude': '127.4467192'}]"
      ]
     },
     "execution_count": 40,
     "metadata": {},
     "output_type": "execute_result"
    }
   ],
   "source": [
    "row_list = []\n",
    "\n",
    "for row in rows[1:]:\n",
    "    if row[0] is None:\n",
    "        break\n",
    "    row_dict = dict(zip(column_names,row))\n",
    "    latitude, longitude = row_dict[\"coordinates\"].split(\",\")\n",
    "    row_dict[\"latitude\"] = latitude\n",
    "    row_dict[\"longitude\"] = longitude\n",
    "    del row_dict[\"coordinates\"]\n",
    "    row_list.append(row_dict)\n",
    "    \n",
    "row_list"
   ]
  },
  {
   "cell_type": "code",
   "execution_count": 38,
   "id": "1b8f833d",
   "metadata": {},
   "outputs": [],
   "source": [
    "from delicious.models import Shop"
   ]
  },
  {
   "cell_type": "code",
   "execution_count": 41,
   "id": "d03ecfe2",
   "metadata": {
    "scrolled": true
   },
   "outputs": [
    {
     "name": "stdout",
     "output_type": "stream",
     "text": [
      "Shop object (40)\n",
      "Shop object (41)\n",
      "Shop object (42)\n",
      "Shop object (43)\n",
      "Shop object (44)\n",
      "Shop object (45)\n",
      "Shop object (46)\n",
      "Shop object (47)\n",
      "Shop object (48)\n",
      "Shop object (49)\n",
      "Shop object (50)\n",
      "Shop object (51)\n",
      "Shop object (52)\n",
      "Shop object (53)\n",
      "Shop object (54)\n"
     ]
    }
   ],
   "source": [
    "for row_dict in row_list:\n",
    "    shop = Shop(**row_dict) ##unpack\n",
    "    shop.save()\n",
    "    print(shop)"
   ]
  },
  {
   "cell_type": "code",
   "execution_count": null,
   "id": "2a5ed938",
   "metadata": {},
   "outputs": [],
   "source": []
  }
 ],
 "metadata": {
  "kernelspec": {
   "display_name": "Python 3 (ipykernel)",
   "language": "python",
   "name": "python3"
  },
  "language_info": {
   "codemirror_mode": {
    "name": "ipython",
    "version": 3
   },
   "file_extension": ".py",
   "mimetype": "text/x-python",
   "name": "python",
   "nbconvert_exporter": "python",
   "pygments_lexer": "ipython3",
   "version": "3.10.0"
  }
 },
 "nbformat": 4,
 "nbformat_minor": 5
}
